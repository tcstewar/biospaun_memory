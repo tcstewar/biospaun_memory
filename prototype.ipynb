{
 "cells": [
  {
   "cell_type": "code",
   "execution_count": 2,
   "metadata": {
    "collapsed": false
   },
   "outputs": [],
   "source": [
    "%matplotlib inline\n",
    "import numpy as np\n",
    "import nengo\n",
    "import pylab"
   ]
  },
  {
   "cell_type": "code",
   "execution_count": 140,
   "metadata": {
    "collapsed": false
   },
   "outputs": [
    {
     "name": "stdout",
     "output_type": "stream",
     "text": [
      "Simulation finished in 0:00:04.                                                 \n"
     ]
    },
    {
     "data": {
      "image/png": "[encoded data removed]",
      "text/plain": [
       "<matplotlib.figure.Figure at 0x7f4442274a90>"
      ]
     },
     "metadata": {},
     "output_type": "display_data"
    }
   ],
   "source": [
    "\n",
    "model = nengo.Network()\n",
    "model.config[nengo.Ensemble].max_rates = nengo.dists.Uniform(40,80)\n",
    "with model:\n",
    "    stim = nengo.Node(lambda t: 1 if 0<t<1 else 0)\n",
    "    \n",
    "    sensory = nengo.Ensemble(n_neurons=100, dimensions=1)\n",
    "    \n",
    "    D = 1\n",
    "    spike_noise=0.01\n",
    "    memory = nengo.Ensemble(n_neurons=500, dimensions=D, \n",
    "                            noise=nengo.processes.WhiteNoise(\n",
    "                                    dist=nengo.dists.Gaussian(mean=0, std=spike_noise)))\n",
    "    \n",
    "    nengo.Connection(stim, sensory, synapse=None)\n",
    "    nengo.Connection(sensory, memory[0], synapse=0.01)\n",
    "    nengo.Connection(memory, memory, synapse=0.1)\n",
    "    \n",
    "    p_mem = nengo.Probe(memory, synapse=0.1, sample_every=0.5)\n",
    "    \n",
    "sim = nengo.Simulator(model)\n",
    "sim.run(9)\n",
    "\n",
    "pylab.plot(sim.trange(dt=0.5)-1, sim.data[p_mem][:,0])\n",
    "pylab.show()"
   ]
  },
  {
   "cell_type": "code",
   "execution_count": 146,
   "metadata": {
    "collapsed": false
   },
   "outputs": [
    {
     "data": {
      "image/png": "[encoded data removed]",
      "text/plain": [
       "<matplotlib.figure.Figure at 0x7f4442a81850>"
      ]
     },
     "metadata": {},
     "output_type": "display_data"
    },
    {
     "name": "stdout",
     "output_type": "stream",
     "text": [
      "[[ 0.00078491]]\n",
      "0.000437833432639\n"
     ]
    }
   ],
   "source": [
    "import scipy.stats\n",
    "\n",
    "def prob(x, noise=1.0):\n",
    "    return scipy.stats.norm.cdf(x/noise)\n",
    "\n",
    "values = sim.data[p_mem][[5,9,13,17],0]   # model data\n",
    "\n",
    "data = [0.97, 0.94, 0.91, 0.80]           # experimental data\n",
    "\n",
    "def curve(x, noise):\n",
    "    return prob(values, noise=noise)\n",
    "\n",
    "import scipy.optimize\n",
    "p, err = scipy.optimize.curve_fit(curve, np.arange(3), data)\n",
    "\n",
    "pylab.plot([2,4,6,8], curve(0, *p), label='model ($\\sigma$=%0.2f)' % p[0])\n",
    "pylab.plot([2,4,6,8], data, label='exp')\n",
    "pylab.legend(loc='best')\n",
    "pylab.show()\n",
    "\n",
    "print err\n",
    "print np.sqrt(np.mean((curve(0, *p)-data)**2))**2"
   ]
  },
  {
   "cell_type": "code",
   "execution_count": 148,
   "metadata": {
    "collapsed": false
   },
   "outputs": [
    {
     "name": "stdout",
     "output_type": "stream",
     "text": [
      "Simulation finished in 0:00:08.                                                 \n",
      "{'values': array([ 0.58159807,  0.53053696,  0.581165  ,  0.53160493]), 'choice_noise': 0.42517596452169726, 'rmse': 0.059477588488203906}\n"
     ]
    }
   ],
   "source": [
    "import scipy.stats\n",
    "\n",
    "def prob(x, noise=1.0):\n",
    "    return scipy.stats.norm.cdf(x/noise)\n",
    "\n",
    "def evaluate(n_neurons=100, D=8, max_rate=80, stim_mag=1, spike_noise=0.01, synapse_memory=0.1):\n",
    "\n",
    "    model = nengo.Network()\n",
    "    model.config[nengo.Ensemble].max_rates = nengo.dists.Uniform(max_rate/2,max_rate)\n",
    "    with model:\n",
    "        stim = nengo.Node(lambda t: stim_mag if 0<t<1 else 0)\n",
    "\n",
    "        sensory = nengo.Ensemble(n_neurons=100, dimensions=1)\n",
    "\n",
    "        memory = nengo.Ensemble(n_neurons=n_neurons, dimensions=D, \n",
    "                                noise=nengo.processes.WhiteNoise(\n",
    "                                        dist=nengo.dists.Gaussian(mean=0, std=spike_noise)))\n",
    "\n",
    "        nengo.Connection(stim, sensory, synapse=None)\n",
    "        nengo.Connection(sensory, memory[0], synapse=0.01)\n",
    "        nengo.Connection(memory, memory, synapse=synapse_memory)\n",
    "\n",
    "        p_mem = nengo.Probe(memory, synapse=0.1, sample_every=0.5)\n",
    "\n",
    "    sim = nengo.Simulator(model)\n",
    "    sim.run(9)\n",
    "\n",
    "    values = sim.data[p_mem][[5,9,13,17],0]   # model data\n",
    "    data = [0.97, 0.94, 0.91, 0.80]           # experimental data\n",
    "\n",
    "    def curve(x, noise):\n",
    "        return prob(values, noise=noise)\n",
    "\n",
    "    import scipy.optimize\n",
    "    p, err = scipy.optimize.curve_fit(curve, np.arange(3), data)\n",
    "    \n",
    "    rmse = np.sqrt(np.mean((curve(0, *p)-data)**2))\n",
    "    choice_noise = p[0]\n",
    "    \n",
    "    return dict(rmse=rmse, \n",
    "                choice_noise=p[0],\n",
    "                values=values)\n",
    "\n",
    "print evaluate()"
   ]
  },
  {
   "cell_type": "code",
   "execution_count": null,
   "metadata": {
    "collapsed": true
   },
   "outputs": [],
   "source": []
  }
 ],
 "metadata": {
  "kernelspec": {
   "display_name": "Python 2",
   "language": "python",
   "name": "python2"
  },
  "language_info": {
   "codemirror_mode": {
    "name": "ipython",
    "version": 2
   },
   "file_extension": ".py",
   "mimetype": "text/x-python",
   "name": "python",
   "nbconvert_exporter": "python",
   "pygments_lexer": "ipython2",
   "version": "2.7.6"
  }
 },
 "nbformat": 4,
 "nbformat_minor": 0
}
