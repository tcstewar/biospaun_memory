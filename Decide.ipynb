{
 "cells": [
  {
   "cell_type": "code",
   "execution_count": 2,
   "metadata": {
    "collapsed": false
   },
   "outputs": [],
   "source": [
    "%matplotlib inline\n",
    "import nengo\n",
    "import numpy as np\n",
    "import pylab"
   ]
  },
  {
   "cell_type": "code",
   "execution_count": 248,
   "metadata": {
    "collapsed": false
   },
   "outputs": [
    {
     "name": "stdout",
     "output_type": "stream",
     "text": [
      "\r",
      "Simulation finished in 0:00:01.                                                 \n"
     ]
    }
   ],
   "source": [
    "\n",
    "model = nengo.Network()\n",
    "with model:\n",
    "    stim = nengo.Node(-0.1)\n",
    "    \n",
    "    decide = nengo.Node(lambda t: 1 if t>0.5 else 0)\n",
    "    \n",
    "    ens = nengo.Ensemble(n_neurons=500, dimensions=3, radius=1.7)\n",
    "    \n",
    "    nengo.Connection(stim, ens[0], synapse=None)\n",
    "    nengo.Connection(decide, ens[1], synapse=None)\n",
    "    \n",
    "    def feedback(x):\n",
    "        evidence, decide, decision = x\n",
    "        \n",
    "        if decide < 0.5:\n",
    "            return 0\n",
    "        else:\n",
    "            if evidence + decision > 0:\n",
    "                return 1\n",
    "            else:\n",
    "                return -1\n",
    "    nengo.Connection(ens, ens[2], function=feedback, synapse=0.01)\n",
    "    p = nengo.Probe(ens, synapse=0.03)\n",
    "    \n",
    "sim = nengo.Simulator(model)\n",
    "sim.run(1)\n",
    "    "
   ]
  },
  {
   "cell_type": "code",
   "execution_count": 249,
   "metadata": {
    "collapsed": false
   },
   "outputs": [
    {
     "data": {
      "text/plain": [
       "[<matplotlib.lines.Line2D at 0x7fef717064d0>,\n",
       " <matplotlib.lines.Line2D at 0x7fef71706750>,\n",
       " <matplotlib.lines.Line2D at 0x7fef71706990>]"
      ]
     },
     "execution_count": 249,
     "metadata": {},
     "output_type": "execute_result"
    },
    {
     "data": {
      "image/png": "[encoded data removed]",
      "text/plain": [
       "<matplotlib.figure.Figure at 0x7fef71794b50>"
      ]
     },
     "metadata": {},
     "output_type": "display_data"
    }
   ],
   "source": [
    "pylab.plot(sim.trange(), sim.data[p])"
   ]
  },
  {
   "cell_type": "code",
   "execution_count": 269,
   "metadata": {
    "collapsed": false
   },
   "outputs": [
    {
     "data": {
      "text/plain": [
       "-0.31805691602185637"
      ]
     },
     "execution_count": 269,
     "metadata": {},
     "output_type": "execute_result"
    }
   ],
   "source": [
    "\n",
    "def test(value, n_neurons=500, T=0.4, feedback_synapse=0.01, evidence_scale=1, spike_noise=0.1):\n",
    "    model = nengo.Network()\n",
    "    with model:\n",
    "        stim = nengo.Node(value)\n",
    "\n",
    "        decide = nengo.Node(lambda t: 1 if t>T/2 else 0)\n",
    "\n",
    "        ens = nengo.Ensemble(n_neurons=n_neurons, dimensions=3, radius=1.7,\n",
    "                            noise=nengo.processes.WhiteNoise(\n",
    "                                        dist=nengo.dists.Gaussian(mean=0, std=spike_noise)))\n",
    "\n",
    "        nengo.Connection(stim, ens[0], synapse=None)\n",
    "        nengo.Connection(decide, ens[1], synapse=None)\n",
    "\n",
    "        def feedback(x):\n",
    "            evidence, decide, decision = x\n",
    "\n",
    "            if decide < 0.5:\n",
    "                return 0\n",
    "            else:\n",
    "                if evidence * evidence_scale + decision > 0:\n",
    "                    return 1\n",
    "                else:\n",
    "                    return -1\n",
    "        nengo.Connection(ens, ens[2], function=feedback, synapse=feedback_synapse)\n",
    "        p = nengo.Probe(ens, synapse=0.03)\n",
    "\n",
    "    sim = nengo.Simulator(model)\n",
    "    sim.run(T, progress_bar=False)\n",
    "    \n",
    "    choice = sim.data[p][-1][2]\n",
    "    return choice\n",
    "\n",
    "test(0.24, evidence_scale=0.25, n_neurons=50, spike_noise=0.01, feedback_synapse=0.01)\n"
   ]
  },
  {
   "cell_type": "code",
   "execution_count": 270,
   "metadata": {
    "collapsed": false
   },
   "outputs": [
    {
     "name": "stdout",
     "output_type": "stream",
     "text": [
      "-0.6 0.06\n",
      "-0.54 0.13\n",
      "-0.48 0.11\n",
      "-0.42 0.2\n",
      "-0.36 0.22\n",
      "-0.3 0.19\n",
      "-0.24 0.28\n",
      "-0.18 0.31\n",
      "-0.12 0.28\n",
      "-0.06 0.39\n",
      "0.0 0.43\n",
      "0.06 0.6\n",
      "0.12 0.53\n",
      "0.18 0.63\n",
      "0.24 0.65\n",
      "0.3 0.77\n",
      "0.36 0.82\n",
      "0.42 0.8\n",
      "0.48 0.87\n",
      "0.54 0.96\n",
      "0.6 0.88\n"
     ]
    },
    {
     "data": {
      "text/plain": [
       "[<matplotlib.lines.Line2D at 0x7fef7133ce90>]"
      ]
     },
     "execution_count": 270,
     "metadata": {},
     "output_type": "execute_result"
    },
    {
     "data": {
      "image/png": "[encoded data removed]",
      "text/plain": [
       "<matplotlib.figure.Figure at 0x7fef718c0fd0>"
      ]
     },
     "metadata": {},
     "output_type": "display_data"
    }
   ],
   "source": [
    "v = np.linspace(-0.6, 0.6, 21)\n",
    "\n",
    "prob = []\n",
    "raw = []\n",
    "for vv in v:\n",
    "    data = [test(vv, evidence_scale=0.25, n_neurons=50, spike_noise=0.002)>0 for i in range(100)]\n",
    "    raw.append(data)\n",
    "    p = np.mean(data)\n",
    "    prob.append(p)\n",
    "    print vv, p\n",
    "\n",
    "pylab.plot(v, prob)    \n",
    "    "
   ]
  },
  {
   "cell_type": "code",
   "execution_count": 271,
   "metadata": {
    "collapsed": false
   },
   "outputs": [],
   "source": [
    "import scipy.stats\n",
    "def curve(x, noise):\n",
    "    return scipy.stats.norm.cdf(x/noise)\n",
    "\n",
    "p = scipy.optimize.curve_fit(curve, v, prob)\n",
    "import ctn_benchmark\n",
    "ci = np.array([ctn_benchmark.stats.bootstrapci(d, np.mean) for d in raw])\n",
    "\n"
   ]
  },
  {
   "cell_type": "code",
   "execution_count": 272,
   "metadata": {
    "collapsed": false
   },
   "outputs": [
    {
     "data": {
      "image/png": "[encoded data removed]",
      "text/plain": [
       "<matplotlib.figure.Figure at 0x7fef7171e550>"
      ]
     },
     "metadata": {},
     "output_type": "display_data"
    }
   ],
   "source": [
    "pylab.fill_between(v, ci[:,0], ci[:,1], color='#aaaaaa')\n",
    "pylab.plot(v, prob)    \n",
    "pylab.plot(v, curve(v, p[0][0]))\n",
    "pylab.show()"
   ]
  },
  {
   "cell_type": "code",
   "execution_count": 273,
   "metadata": {
    "collapsed": false
   },
   "outputs": [
    {
     "name": "stdout",
     "output_type": "stream",
     "text": [
      "0.426349598832\n"
     ]
    }
   ],
   "source": [
    "print p[0][0]"
   ]
  },
  {
   "cell_type": "code",
   "execution_count": null,
   "metadata": {
    "collapsed": true
   },
   "outputs": [],
   "source": []
  }
 ],
 "metadata": {
  "kernelspec": {
   "display_name": "Python 2",
   "language": "python",
   "name": "python2"
  },
  "language_info": {
   "codemirror_mode": {
    "name": "ipython",
    "version": 2
   },
   "file_extension": ".py",
   "mimetype": "text/x-python",
   "name": "python",
   "nbconvert_exporter": "python",
   "pygments_lexer": "ipython2",
   "version": "2.7.6"
  }
 },
 "nbformat": 4,
 "nbformat_minor": 0
}
